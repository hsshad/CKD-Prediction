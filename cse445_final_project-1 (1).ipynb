{
 "cells": [
  {
   "cell_type": "markdown",
   "metadata": {
    "id": "_qltiv7zGq3z"
   },
   "source": [
    "# Chronic Kidney Disease Prediction"
   ]
  },
  {
   "cell_type": "code",
   "execution_count": 6,
   "metadata": {
    "colab": {
     "base_uri": "https://localhost:8080/"
    },
    "id": "nPeoT20PGq38",
    "outputId": "aaabc3cf-f5d4-4b4e-91d5-90e63d8e8906"
   },
   "outputs": [],
   "source": [
    "import sklearn\n",
    "from sklearn import metrics\n",
    "from sklearn.datasets import make_classification\n",
    "from sklearn.metrics import roc_curve, auc, confusion_matrix, classification_report ,accuracy_score\n",
    "from sklearn.linear_model import LogisticRegression\n",
    "from sklearn.svm import SVC\n",
    "from sklearn.ensemble import RandomForestClassifier\n",
    "from sklearn.neighbors import KNeighborsClassifier\n",
    "from sklearn.model_selection import train_test_split\n",
    "from sklearn.model_selection import cross_val_score\n",
    "from sklearn.metrics import roc_auc_score\n",
    "from sklearn.metrics import accuracy_score\n",
    "from sklearn.metrics import confusion_matrix\n",
    "from sklearn.metrics import classification_report\n",
    "from matplotlib.pyplot import figure\n",
    "import matplotlib as mp\n",
    "import matplotlib.pyplot as plt\n",
    "import seaborn as sb\n",
    "import numpy as np\n",
    "import pandas as pd\n",
    "import re\n",
    "\n",
    "# df = pd.read_csv('C:\\\\Users\\SHAD\\Downloads\\processed_kidney_data_set.csv')\n",
    "from warnings import simplefilter\n",
    "simplefilter(action='ignore', category=FutureWarning)\n",
    "df = pd.read_csv('C:\\\\Users\\SHAD\\Downloads\\processed_kidney_data_set.csv')"
   ]
  },
  {
   "cell_type": "code",
   "execution_count": 7,
   "metadata": {
    "id": "kUAnEUvyGq3-"
   },
   "outputs": [],
   "source": [
    "# #df=df.replace('[^\\d.]','',regex=True).astypey(float)\n",
    "# v= lambda x:float(x[1:-1])\n",
    "# df.htn=df.htn.apply(v)"
   ]
  },
  {
   "cell_type": "code",
   "execution_count": 8,
   "metadata": {
    "id": "gylmndPOGq3-"
   },
   "outputs": [],
   "source": [
    "#df.info()"
   ]
  },
  {
   "cell_type": "code",
   "execution_count": 9,
   "metadata": {
    "colab": {
     "base_uri": "https://localhost:8080/"
    },
    "id": "8XYRDsxUGq3_",
    "outputId": "f9c73818-7cc7-4772-a903-9393bdddd7d2"
   },
   "outputs": [
    {
     "name": "stdout",
     "output_type": "stream",
     "text": [
      "(400, 37)\n"
     ]
    }
   ],
   "source": [
    "print(df.shape)"
   ]
  },
  {
   "cell_type": "code",
   "execution_count": 10,
   "metadata": {
    "colab": {
     "base_uri": "https://localhost:8080/"
    },
    "id": "D2hFO4NkGq4A",
    "outputId": "bed01e0d-3777-46b9-812a-773a941ddc7a"
   },
   "outputs": [
    {
     "data": {
      "text/plain": [
       "age            0\n",
       "scaled_age     0\n",
       "bp             0\n",
       "scaled_bp      0\n",
       "sg             0\n",
       "al             0\n",
       "scaled_al      0\n",
       "su             0\n",
       "scaled_su      0\n",
       "rbc            0\n",
       "scaled_rbc     0\n",
       "pc             0\n",
       "pcc            0\n",
       "ba             0\n",
       "bgr            0\n",
       "scaled_bgr     0\n",
       "bu             0\n",
       "scaled_bu      0\n",
       "sc             0\n",
       "scaled_sc      0\n",
       "sod            0\n",
       "scaled_sod     0\n",
       "pot            0\n",
       "hemo           0\n",
       "scaled_hemo    0\n",
       "pcv            0\n",
       "scaled_pcv     0\n",
       "wbc            0\n",
       "scaled_wbc     0\n",
       "rbcc           0\n",
       "htn            0\n",
       "dm             0\n",
       "cad            0\n",
       "appet          0\n",
       "pe             0\n",
       "ane            0\n",
       "class          0\n",
       "dtype: int64"
      ]
     },
     "execution_count": 10,
     "metadata": {},
     "output_type": "execute_result"
    }
   ],
   "source": [
    "df.isnull().sum()"
   ]
  },
  {
   "cell_type": "code",
   "execution_count": 11,
   "metadata": {
    "colab": {
     "base_uri": "https://localhost:8080/"
    },
    "id": "MGUtn53hGq4A",
    "outputId": "eb1fd9c0-fcfa-4b40-e94d-cb5fae076d6a"
   },
   "outputs": [
    {
     "data": {
      "text/plain": [
       "age            0\n",
       "scaled_age     0\n",
       "bp             0\n",
       "scaled_bp      0\n",
       "sg             0\n",
       "al             0\n",
       "scaled_al      0\n",
       "su             0\n",
       "scaled_su      0\n",
       "rbc            0\n",
       "scaled_rbc     0\n",
       "pc             0\n",
       "pcc            0\n",
       "ba             0\n",
       "bgr            0\n",
       "scaled_bgr     0\n",
       "bu             0\n",
       "scaled_bu      0\n",
       "sc             0\n",
       "scaled_sc      0\n",
       "sod            0\n",
       "scaled_sod     0\n",
       "pot            0\n",
       "hemo           0\n",
       "scaled_hemo    0\n",
       "pcv            0\n",
       "scaled_pcv     0\n",
       "wbc            0\n",
       "scaled_wbc     0\n",
       "rbcc           0\n",
       "htn            0\n",
       "dm             0\n",
       "cad            0\n",
       "appet          0\n",
       "pe             0\n",
       "ane            0\n",
       "class          0\n",
       "dtype: int64"
      ]
     },
     "execution_count": 11,
     "metadata": {},
     "output_type": "execute_result"
    }
   ],
   "source": [
    "df.isin(['\t?']).sum() #data which includes the '?' sign"
   ]
  },
  {
   "cell_type": "code",
   "execution_count": 12,
   "metadata": {
    "colab": {
     "base_uri": "https://localhost:8080/"
    },
    "id": "qyUPruf-Gq4B",
    "outputId": "a24aefcc-a3c9-4699-8bb2-8e3b2660092a"
   },
   "outputs": [
    {
     "data": {
      "text/plain": [
       "age            0\n",
       "scaled_age     0\n",
       "bp             0\n",
       "scaled_bp      0\n",
       "sg             0\n",
       "al             0\n",
       "scaled_al      0\n",
       "su             0\n",
       "scaled_su      0\n",
       "rbc            0\n",
       "scaled_rbc     0\n",
       "pc             0\n",
       "pcc            0\n",
       "ba             0\n",
       "bgr            0\n",
       "scaled_bgr     0\n",
       "bu             0\n",
       "scaled_bu      0\n",
       "sc             0\n",
       "scaled_sc      0\n",
       "sod            0\n",
       "scaled_sod     0\n",
       "pot            0\n",
       "hemo           0\n",
       "scaled_hemo    0\n",
       "pcv            0\n",
       "scaled_pcv     0\n",
       "wbc            0\n",
       "scaled_wbc     0\n",
       "rbcc           0\n",
       "htn            0\n",
       "dm             0\n",
       "cad            0\n",
       "appet          0\n",
       "pe             0\n",
       "ane            0\n",
       "class          0\n",
       "dtype: int64"
      ]
     },
     "execution_count": 12,
     "metadata": {},
     "output_type": "execute_result"
    }
   ],
   "source": [
    "df.isin(['\t?']).sum() #data which includes the '?' sign"
   ]
  },
  {
   "cell_type": "code",
   "execution_count": 13,
   "metadata": {
    "id": "OhRiD46nGq4B"
   },
   "outputs": [],
   "source": [
    "new_df=df.drop(columns=['age','bp','sg','al','su','rbc','bgr','bu','sc','sod','hemo','pcv','wbc','class'])\n",
    "\n"
   ]
  },
  {
   "cell_type": "code",
   "execution_count": 14,
   "metadata": {
    "colab": {
     "base_uri": "https://localhost:8080/",
     "height": 1000
    },
    "id": "95fQJjfoGq4C",
    "outputId": "29b975ea-67ce-45d6-ca39-e2ef144760d1"
   },
   "outputs": [
    {
     "data": {
      "text/plain": [
       "array([[<AxesSubplot:title={'center':'scaled_age'}>,\n",
       "        <AxesSubplot:title={'center':'scaled_bp'}>,\n",
       "        <AxesSubplot:title={'center':'scaled_al'}>,\n",
       "        <AxesSubplot:title={'center':'scaled_su'}>,\n",
       "        <AxesSubplot:title={'center':'scaled_rbc'}>],\n",
       "       [<AxesSubplot:title={'center':'pc'}>,\n",
       "        <AxesSubplot:title={'center':'pcc'}>,\n",
       "        <AxesSubplot:title={'center':'ba'}>,\n",
       "        <AxesSubplot:title={'center':'scaled_bgr'}>,\n",
       "        <AxesSubplot:title={'center':'scaled_bu'}>],\n",
       "       [<AxesSubplot:title={'center':'scaled_sc'}>,\n",
       "        <AxesSubplot:title={'center':'scaled_sod'}>,\n",
       "        <AxesSubplot:title={'center':'pot'}>,\n",
       "        <AxesSubplot:title={'center':'scaled_hemo'}>,\n",
       "        <AxesSubplot:title={'center':'scaled_pcv'}>],\n",
       "       [<AxesSubplot:title={'center':'scaled_wbc'}>,\n",
       "        <AxesSubplot:title={'center':'rbcc'}>,\n",
       "        <AxesSubplot:title={'center':'htn'}>,\n",
       "        <AxesSubplot:title={'center':'dm'}>,\n",
       "        <AxesSubplot:title={'center':'cad'}>],\n",
       "       [<AxesSubplot:title={'center':'appet'}>,\n",
       "        <AxesSubplot:title={'center':'pe'}>,\n",
       "        <AxesSubplot:title={'center':'ane'}>, <AxesSubplot:>,\n",
       "        <AxesSubplot:>]], dtype=object)"
      ]
     },
     "execution_count": 14,
     "metadata": {},
     "output_type": "execute_result"
    },
    {
     "data": {
      "image/png": "[encoded data removed]",
      "text/plain": [
       "<Figure size 1440x1080 with 25 Axes>"
      ]
     },
     "metadata": {
      "needs_background": "light"
     },
     "output_type": "display_data"
    }
   ],
   "source": [
    "new_df.iloc[1:24].hist(xlabelsize=10,ylabelsize=10,figsize=(20,15)) #Histogram"
   ]
  },
  {
   "cell_type": "code",
   "execution_count": null,
   "metadata": {
    "colab": {
     "base_uri": "https://localhost:8080/"
    },
    "id": "t1xXmvd1Gq4C",
    "outputId": "9ac94e74-83e0-42a6-cc34-78a7041f3531"
   },
   "outputs": [],
   "source": [
    "df.dtypes"
   ]
  },
  {
   "cell_type": "code",
   "execution_count": null,
   "metadata": {
    "id": "S51daU4DGq4D"
   },
   "outputs": [],
   "source": [
    "from sklearn.model_selection import train_test_split\n",
    "\n",
    "y = df['class']\n",
    "\n",
    "#X = df.drop(columns = 'class')\n",
    "X=df.drop(columns=['age','bp','sg','al','su','rbc','bgr','bu','sc','sod','hemo','pcv','wbc','class'])\n",
    "#X=df.drop(columns=['scaled_age','scaled_bp','scaled_al','scaled_su','scaled_rbc','scaled_bgr','scaled_bu','scaled_sc','scaled_sod','scaled_hemo','scaled_pcv','scaled_wbc','class'])\n",
    "\n",
    "X_train, X_test, y_train, y_test = train_test_split(X, y, test_size = 0.2, random_state=42)"
   ]
  },
  {
   "cell_type": "code",
   "execution_count": null,
   "metadata": {
    "colab": {
     "base_uri": "https://localhost:8080/",
     "height": 419
    },
    "id": "StNQrx7lGq4D",
    "outputId": "8dfa13bd-6e87-4748-967e-e47bb6c9a97d"
   },
   "outputs": [],
   "source": [
    "X_train"
   ]
  },
  {
   "cell_type": "code",
   "execution_count": null,
   "metadata": {
    "id": "08EtShTcGq4E"
   },
   "outputs": [],
   "source": [
    "X_train.to_csv(\"XTrain.csv\")\n",
    "X_test.to_csv('XTest.csv')"
   ]
  },
  {
   "cell_type": "code",
   "execution_count": null,
   "metadata": {
    "id": "9cUp6PDGGq4E"
   },
   "outputs": [],
   "source": [
    "# x=df.drop('age','bp','sg','al','su','rbc','bgr','bu','sc','sod','hemo','pcv','wbc')"
   ]
  },
  {
   "cell_type": "code",
   "execution_count": null,
   "metadata": {
    "id": "vIki_mH-Gq4F"
   },
   "outputs": [],
   "source": [
    "X=df.drop(columns=['age','bp','sg','al','su','rbc','bgr','bu','sc','sod','hemo','pcv','wbc','class'])\n",
    "\n",
    "X_train_scaled, X_test_scaled, y_train_scaled, y_test_scaled = train_test_split(X, y, test_size = 0.2, random_state=42)"
   ]
  },
  {
   "cell_type": "code",
   "execution_count": null,
   "metadata": {
    "colab": {
     "base_uri": "https://localhost:8080/",
     "height": 419
    },
    "id": "gzCO47WsGq4F",
    "outputId": "b878dae5-c860-4d6d-8598-f36c4a366fc7"
   },
   "outputs": [],
   "source": [
    "X_train"
   ]
  },
  {
   "cell_type": "markdown",
   "metadata": {
    "id": "NTxfbZJ7Gq4G"
   },
   "source": [
    "### Decision Tree Classifier"
   ]
  },
  {
   "cell_type": "code",
   "execution_count": null,
   "metadata": {
    "colab": {
     "base_uri": "https://localhost:8080/"
    },
    "id": "EZRLTyvSGq4G",
    "outputId": "3ec30f48-d53e-4c20-daef-1e779d99aac5"
   },
   "outputs": [],
   "source": [
    "from sklearn import tree\n",
    "\n",
    "dtree=tree.DecisionTreeClassifier()\n",
    "dtree=dtree.fit(X_train_scaled,y_train_scaled)\n",
    "ypred= dtree.score(X_test_scaled,y_test_scaled)\n",
    "\n",
    "print(ypred)"
   ]
  },
  {
   "cell_type": "code",
   "execution_count": null,
   "metadata": {
    "id": "WD0fy0LPGq4G"
   },
   "outputs": [],
   "source": [
    "pred_dtree=dtree.predict(X_test_scaled)"
   ]
  },
  {
   "cell_type": "markdown",
   "metadata": {
    "id": "ncC7TI_EGq4H"
   },
   "source": [
    "#### confusion matrix"
   ]
  },
  {
   "cell_type": "code",
   "execution_count": null,
   "metadata": {
    "colab": {
     "base_uri": "https://localhost:8080/"
    },
    "id": "EiUzeg0uGq4H",
    "outputId": "78359bfd-5fec-46f5-c891-2d3d0ac964bb"
   },
   "outputs": [],
   "source": [
    "print(confusion_matrix(y_test_scaled,pred_dtree))"
   ]
  },
  {
   "cell_type": "markdown",
   "metadata": {
    "id": "VM4tI8jBGq4H"
   },
   "source": [
    "#### Classification report of Decision Tree Classifier"
   ]
  },
  {
   "cell_type": "code",
   "execution_count": null,
   "metadata": {
    "colab": {
     "base_uri": "https://localhost:8080/"
    },
    "id": "msUcZnjxGq4H",
    "outputId": "01d8277c-2a2e-4a3a-b493-019f050c6f1f"
   },
   "outputs": [],
   "source": [
    "print(classification_report(y_test_scaled,pred_dtree))"
   ]
  },
  {
   "cell_type": "code",
   "execution_count": null,
   "metadata": {
    "colab": {
     "base_uri": "https://localhost:8080/"
    },
    "id": "A1DTMpDVGq4I",
    "outputId": "1f92eb91-a750-4136-821f-7632cb7430d7"
   },
   "outputs": [],
   "source": [
    "plt.figure(figsize=(20,15))\n",
    "tree.plot_tree(dtree,filled=True)"
   ]
  },
  {
   "cell_type": "markdown",
   "metadata": {
    "id": "sSe8C9J7Gq4I"
   },
   "source": [
    "### Logistic Regression"
   ]
  },
  {
   "cell_type": "code",
   "execution_count": null,
   "metadata": {
    "colab": {
     "base_uri": "https://localhost:8080/"
    },
    "id": "OfCT6ZNTGq4J",
    "outputId": "6c3f41fa-f306-4ebc-decb-f6e81d51f803"
   },
   "outputs": [],
   "source": [
    "from sklearn.linear_model import LogisticRegression\n",
    "\n",
    "lr = LogisticRegression(solver='lbfgs')\n",
    "lr.fit(X_train_scaled, y_train_scaled)\n",
    "lr.score(X_test_scaled, y_test_scaled)"
   ]
  },
  {
   "cell_type": "code",
   "execution_count": null,
   "metadata": {
    "id": "Lu2Vgz7-Gq4J"
   },
   "outputs": [],
   "source": [
    "pred_lr=lr.predict(X_test_scaled)"
   ]
  },
  {
   "cell_type": "markdown",
   "metadata": {
    "id": "MZMamBnRGq4J"
   },
   "source": [
    "#### confusion matrix"
   ]
  },
  {
   "cell_type": "code",
   "execution_count": null,
   "metadata": {
    "colab": {
     "base_uri": "https://localhost:8080/"
    },
    "id": "NmtRSMSbGq4K",
    "outputId": "66dade36-8157-4532-85c4-d7310ba0a5df"
   },
   "outputs": [],
   "source": [
    "print(confusion_matrix(y_test_scaled,pred_lr))"
   ]
  },
  {
   "cell_type": "markdown",
   "metadata": {
    "id": "K3fERX-bGq4K"
   },
   "source": [
    "#### Classification report of Logistic Regression"
   ]
  },
  {
   "cell_type": "code",
   "execution_count": null,
   "metadata": {
    "colab": {
     "base_uri": "https://localhost:8080/"
    },
    "id": "o3y_cCKZGq4K",
    "outputId": "e76613b9-553c-45f9-e427-997755d45cda"
   },
   "outputs": [],
   "source": [
    "print(classification_report(y_test_scaled,pred_lr))"
   ]
  },
  {
   "cell_type": "markdown",
   "metadata": {
    "id": "SiQAcX-2Gq4L"
   },
   "source": [
    "### KNeighborsClassifier"
   ]
  },
  {
   "cell_type": "code",
   "execution_count": null,
   "metadata": {
    "id": "qreeX83bGq4L"
   },
   "outputs": [],
   "source": [
    "from sklearn.neighbors import KNeighborsClassifier\n",
    "\n",
    "\n",
    "knn = KNeighborsClassifier(n_neighbors=65, metric='euclidean')\n",
    "knn.fit(X_train_scaled,y_train_scaled)\n",
    "prediction=knn.score(X_test_scaled, y_test_scaled)"
   ]
  },
  {
   "cell_type": "code",
   "execution_count": null,
   "metadata": {
    "id": "bFoBjm2yGq4L"
   },
   "outputs": [],
   "source": [
    "pred_knn=knn.predict(X_test_scaled)"
   ]
  },
  {
   "cell_type": "markdown",
   "metadata": {
    "id": "2ey1zI6AGq4M"
   },
   "source": [
    "#### confusion matrix"
   ]
  },
  {
   "cell_type": "code",
   "execution_count": null,
   "metadata": {
    "colab": {
     "base_uri": "https://localhost:8080/"
    },
    "id": "mv12-6V_Gq4M",
    "outputId": "3548272c-814d-4cca-b909-f4fccddb8923",
    "scrolled": true
   },
   "outputs": [],
   "source": [
    "print(confusion_matrix(y_test_scaled,pred_knn))"
   ]
  },
  {
   "cell_type": "markdown",
   "metadata": {
    "id": "XVqeoLhLGq4M"
   },
   "source": [
    "#### Classification report of KNeighborsClassifier"
   ]
  },
  {
   "cell_type": "code",
   "execution_count": null,
   "metadata": {
    "colab": {
     "base_uri": "https://localhost:8080/"
    },
    "id": "amXcCg7UGq4M",
    "outputId": "9999c3d3-3af1-4fdd-eb6c-fab09065ff55",
    "scrolled": false
   },
   "outputs": [],
   "source": [
    "print(classification_report(y_test_scaled,pred_knn))"
   ]
  },
  {
   "cell_type": "code",
   "execution_count": null,
   "metadata": {
    "colab": {
     "base_uri": "https://localhost:8080/",
     "height": 466
    },
    "id": "x_SRbJdBGq4N",
    "outputId": "2b4facaa-6318-4846-eed4-eb3a3f8818cf"
   },
   "outputs": [],
   "source": [
    "from mpl_toolkits.mplot3d import Axes3D\n",
    "fig=plt.figure(figsize=(8,8))\n",
    "ax=fig.add_subplot(111,projection='3d')\n",
    "ax.scatter(X_train_scaled.iloc[:,0],X_train_scaled.iloc[:,1],y_train_scaled,c=\"blue\",alpha=0.5,marker = 'o')\n",
    "ax.set_xlabel('X_1')\n",
    "ax.set_ylabel('X_2')\n",
    "ax.set_zlabel('y')\n",
    "plt.show()"
   ]
  },
  {
   "cell_type": "markdown",
   "metadata": {
    "id": "a2TGSJxTGq4N"
   },
   "source": [
    "### Support Vector Machine"
   ]
  },
  {
   "cell_type": "code",
   "execution_count": null,
   "metadata": {
    "colab": {
     "base_uri": "https://localhost:8080/"
    },
    "id": "2UUBFkcwGq4O",
    "outputId": "763299d0-c2ae-434c-dae0-a3b58cc2be1c"
   },
   "outputs": [],
   "source": [
    "from sklearn.svm import SVC\n",
    "\n",
    "svm = SVC(probability=True)\n",
    "svm.fit(X_train_scaled, y_train_scaled)\n",
    "svm.score(X_test_scaled, y_test_scaled)"
   ]
  },
  {
   "cell_type": "code",
   "execution_count": null,
   "metadata": {
    "id": "JcLaY-HaGq4O"
   },
   "outputs": [],
   "source": [
    "pred_svm=svm.predict(X_test_scaled)"
   ]
  },
  {
   "cell_type": "markdown",
   "metadata": {
    "id": "LWgzvY_vGq4O"
   },
   "source": [
    "#### confusion matrix"
   ]
  },
  {
   "cell_type": "code",
   "execution_count": null,
   "metadata": {
    "colab": {
     "base_uri": "https://localhost:8080/"
    },
    "id": "lsr_G9LuGq4P",
    "outputId": "49ef7ed8-2286-4891-ca7c-93a30ebe48cc",
    "scrolled": true
   },
   "outputs": [],
   "source": [
    "print(confusion_matrix(y_test_scaled,pred_svm))"
   ]
  },
  {
   "cell_type": "markdown",
   "metadata": {
    "id": "l8HMpSfmGq4P"
   },
   "source": [
    "#### Classification report of svm"
   ]
  },
  {
   "cell_type": "code",
   "execution_count": null,
   "metadata": {
    "colab": {
     "base_uri": "https://localhost:8080/"
    },
    "id": "i2uHkaInGq4P",
    "outputId": "c0af808c-4776-483f-f7bd-afb37161c072",
    "scrolled": false
   },
   "outputs": [],
   "source": [
    "print(classification_report(y_test_scaled,pred_svm))"
   ]
  },
  {
   "cell_type": "markdown",
   "metadata": {
    "id": "d0HaOfAXGq4Q"
   },
   "source": [
    "### RandomForestClassifier"
   ]
  },
  {
   "cell_type": "code",
   "execution_count": null,
   "metadata": {
    "colab": {
     "base_uri": "https://localhost:8080/"
    },
    "id": "_CfqA7zOGq4Q",
    "outputId": "b1d5afb0-e0dc-4bd7-a692-478594fbede0"
   },
   "outputs": [],
   "source": [
    "from sklearn.ensemble import RandomForestClassifier\n",
    "\n",
    "rf = RandomForestClassifier(n_estimators = 40)\n",
    "rf.fit(X_train_scaled, y_train_scaled)\n",
    "rf.score(X_test_scaled, y_test_scaled)\n"
   ]
  },
  {
   "cell_type": "code",
   "execution_count": null,
   "metadata": {
    "id": "FVi3Ibq9Gq4R"
   },
   "outputs": [],
   "source": [
    "pred_rf=rf.predict(X_test_scaled)"
   ]
  },
  {
   "cell_type": "markdown",
   "metadata": {
    "id": "JzhcoLMHGq4R"
   },
   "source": [
    "#### confusion matrix"
   ]
  },
  {
   "cell_type": "code",
   "execution_count": null,
   "metadata": {
    "colab": {
     "base_uri": "https://localhost:8080/"
    },
    "id": "1yn5f2xxGq4R",
    "outputId": "a788f57b-85d1-4413-da13-26aa3926c95d",
    "scrolled": true
   },
   "outputs": [],
   "source": [
    "print(confusion_matrix(y_test_scaled,pred_rf))"
   ]
  },
  {
   "cell_type": "markdown",
   "metadata": {
    "id": "1TqZ-wq4Gq4S"
   },
   "source": [
    "#### Classification report of RandomForestClassifier"
   ]
  },
  {
   "cell_type": "code",
   "execution_count": null,
   "metadata": {
    "colab": {
     "base_uri": "https://localhost:8080/"
    },
    "id": "nXozWji0Gq4S",
    "outputId": "5a05fe3e-e668-4fe7-b5e1-00708793ce1f",
    "scrolled": true
   },
   "outputs": [],
   "source": [
    "print(classification_report(y_test_scaled,pred_rf))"
   ]
  },
  {
   "cell_type": "markdown",
   "metadata": {
    "id": "fd9x4kUAGq4S"
   },
   "source": [
    "# Using K-Fold\n"
   ]
  },
  {
   "cell_type": "code",
   "execution_count": null,
   "metadata": {
    "colab": {
     "base_uri": "https://localhost:8080/"
    },
    "id": "6VWvFGRkGq4S",
    "outputId": "00f8cdea-0fae-4618-e2b3-483321d321d9"
   },
   "outputs": [],
   "source": [
    "from sklearn.model_selection import KFold\n",
    "kf = KFold(n_splits = 10)\n",
    "kf"
   ]
  },
  {
   "cell_type": "code",
   "execution_count": null,
   "metadata": {
    "colab": {
     "base_uri": "https://localhost:8080/"
    },
    "id": "2owsjbF7Gq4T",
    "outputId": "1b940117-6638-4b5d-f40f-9ccdb1d8a815"
   },
   "outputs": [],
   "source": [
    "for train_index, test_index in kf.split([1,2,3,4,5,6,7,8,9,10,11,12,13,14,15,16,17,18,19,20,21,22,23,24]):\n",
    "    print(train_index, test_index)"
   ]
  },
  {
   "cell_type": "code",
   "execution_count": null,
   "metadata": {
    "id": "Hl1w8Ld7Gq4T"
   },
   "outputs": [],
   "source": [
    "def get_score(model, X_train, X_test, y_train, y_test):\n",
    "    model.fit(X_train, y_train)\n",
    "    return model.score(X_test, y_test)"
   ]
  },
  {
   "cell_type": "code",
   "execution_count": null,
   "metadata": {
    "colab": {
     "base_uri": "https://localhost:8080/"
    },
    "id": "IOq1Wm5NGq4U",
    "outputId": "1ad65082-da2f-46bd-bf81-28acd16eab72"
   },
   "outputs": [],
   "source": [
    "from numpy import mean, std\n",
    "from sklearn.model_selection import StratifiedKFold, cross_val_score\n",
    "from sklearn import tree\n",
    "from sklearn.tree import DecisionTreeClassifier\n",
    "folds = StratifiedKFold(n_splits = 10)\n",
    "\n",
    "cv = StratifiedKFold(n_splits = 10, random_state = 1, shuffle = True)\n",
    "scoresLR = cross_val_score(LogisticRegression(), X, y, scoring = 'accuracy', cv = cv, n_jobs = 1)\n",
    "print('Accuracy for Logistic Regression Model: %.3f (%.3f)' % (mean(scoresLR), std(scoresLR)))\n",
    "\n",
    "scoresRF = cross_val_score(RandomForestClassifier(n_estimators = 40), X, y, scoring = 'accuracy', cv = cv, n_jobs = 1)\n",
    "print('Accuracy for Random Forest Model: %.3f (%.3f)' % (mean(scoresRF), std(scoresRF)))\n",
    "\n",
    "scoresSV = cross_val_score(SVC(), X, y, scoring = 'accuracy', cv = cv, n_jobs = 1)\n",
    "print('Accuracy for SVM Model: %.3f (%.3f)' % (mean(scoresSV), std(scoresSV)))\n",
    "\n",
    "scoresKNN = cross_val_score(KNeighborsClassifier(n_neighbors = 5, metric = 'euclidean'), X, y, scoring = 'accuracy', cv = cv, n_jobs = 1)\n",
    "print('Accuracy for KNN Model: %.3f (%.3f)' % (mean(scoresKNN), std(scoresKNN)))\n",
    "\n",
    "\n",
    "scoresDtree= cross_val_score(DecisionTreeClassifier(max_depth= 10, criterion='gini'), X, y, scoring = 'accuracy', cv = cv, n_jobs = 1)\n",
    "print('Accuracy for Decision Tree Model: %.3f (%.3f)' % (mean(scoresDtree), std(scoresDtree)))"
   ]
  },
  {
   "cell_type": "code",
   "execution_count": null,
   "metadata": {
    "colab": {
     "base_uri": "https://localhost:8080/",
     "height": 1000
    },
    "id": "HkmkmnWeGq4U",
    "outputId": "6fed9742-ade3-4006-9899-b54cfe725bb0",
    "scrolled": false
   },
   "outputs": [],
   "source": [
    "%matplotlib inline\n",
    "import seaborn as sns\n",
    "import matplotlib.pyplot as plt \n",
    "plt.figure(figsize = (50,50))\n",
    "sns.heatmap(df.corr(), cmap = 'twilight', annot = True)\n",
    "plt.show()"
   ]
  },
  {
   "cell_type": "markdown",
   "metadata": {
    "id": "_KTp_R_dGq4U"
   },
   "source": [
    "# KFOLD and ROC CURVE\n",
    "\n",
    "\n",
    "# KNN\n"
   ]
  },
  {
   "cell_type": "code",
   "execution_count": null,
   "metadata": {
    "id": "kgyHmYZ3Gq4V"
   },
   "outputs": [],
   "source": [
    "\n",
    "accuracy_rate=[]\n",
    "for i in range(1,5):    \n",
    "    knn = KNeighborsClassifier(n_neighbors=i)\n",
    "    score=cross_val_score(knn,X,y, cv=10)\n",
    "    accuracy_rate.append(score.mean())"
   ]
  },
  {
   "cell_type": "code",
   "execution_count": null,
   "metadata": {
    "id": "KjpiSERsGq4V"
   },
   "outputs": [],
   "source": [
    "error_rate = []\n",
    "\n",
    "\n",
    "for i in range(1,5):\n",
    "    \n",
    "    knn = KNeighborsClassifier(n_neighbors=i)\n",
    "    score=cross_val_score(knn,X,y, cv=10)\n",
    "    error_rate.append(1-score.mean())"
   ]
  },
  {
   "cell_type": "code",
   "execution_count": null,
   "metadata": {
    "colab": {
     "base_uri": "https://localhost:8080/",
     "height": 421
    },
    "id": "I8TvKd2zGq4V",
    "outputId": "ee3bd8fc-89ac-40cd-8b2a-d630496c3098"
   },
   "outputs": [],
   "source": [
    "plt.figure(figsize=(10,6))\n",
    "plt.plot(range(1,5),error_rate,color='blue', linestyle='dashed', marker='o',markerfacecolor='red', markersize=10)\n",
    "plt.title('Error Rate vs. K Value')\n",
    "plt.xlabel('K')\n",
    "plt.ylabel('Error Rate')"
   ]
  },
  {
   "cell_type": "code",
   "execution_count": null,
   "metadata": {
    "colab": {
     "base_uri": "https://localhost:8080/",
     "height": 421
    },
    "id": "o_JNDm1JGq4W",
    "outputId": "d4e2672c-a66a-4a3f-fbbd-e22162add12e"
   },
   "outputs": [],
   "source": [
    "plt.figure(figsize = (10,6))\n",
    "plt.plot(range(1,5),accuracy_rate,color='blue', linestyle='dashed', marker='o',markerfacecolor='red', markersize=10)\n",
    "plt.title('Accuracy vs K Value')\n",
    "plt.xlabel('K')\n",
    "plt.ylabel('Accuracy')"
   ]
  },
  {
   "cell_type": "code",
   "execution_count": null,
   "metadata": {
    "id": "PnkYZ2DlGq4W"
   },
   "outputs": [],
   "source": [
    "knn = KNeighborsClassifier(n_neighbors=17,metric=\"euclidean\")\n",
    "knn.fit(X,y)\n",
    "pred = knn.predict(X)"
   ]
  },
  {
   "cell_type": "code",
   "execution_count": null,
   "metadata": {
    "colab": {
     "base_uri": "https://localhost:8080/"
    },
    "id": "Sa4_DWE1Gq4W",
    "outputId": "b6f95379-5363-43be-eb53-9dc8a488a644"
   },
   "outputs": [],
   "source": [
    "print(classification_report(y,pred))\n",
    "print(confusion_matrix(y,pred))"
   ]
  },
  {
   "cell_type": "code",
   "execution_count": null,
   "metadata": {
    "colab": {
     "base_uri": "https://localhost:8080/"
    },
    "id": "oAEIQCcOGq4X",
    "outputId": "f5d79416-e169-4d8a-d6f9-3c03416507eb"
   },
   "outputs": [],
   "source": [
    "y_pred_prob = knn.predict_proba(X)[:,1]\n",
    "print(roc_auc_score(y,y_pred_prob))\n"
   ]
  },
  {
   "cell_type": "markdown",
   "metadata": {
    "id": "ivLGuAFfGq4X"
   },
   "source": [
    "# Decision Tree"
   ]
  },
  {
   "cell_type": "code",
   "execution_count": null,
   "metadata": {
    "id": "3g6CHa6-Gq4X"
   },
   "outputs": [],
   "source": [
    "accuracy_rate=[]\n",
    "for i in range(1,30):    \n",
    "    dt = DecisionTreeClassifier(max_depth=i, criterion='gini')\n",
    "    score=cross_val_score(dt,X,y, cv=10)\n",
    "    accuracy_rate.append(score.mean())"
   ]
  },
  {
   "cell_type": "code",
   "execution_count": null,
   "metadata": {
    "id": "bSgKEAMBGq4Y"
   },
   "outputs": [],
   "source": [
    "error_rate = []\n",
    "\n",
    "for i in range(1,30):\n",
    "    \n",
    "    dt = DecisionTreeClassifier(max_depth=i, criterion='gini')\n",
    "    score=cross_val_score(dt,X,y, cv=10)\n",
    "    error_rate.append(1-score.mean())"
   ]
  },
  {
   "cell_type": "code",
   "execution_count": null,
   "metadata": {
    "colab": {
     "base_uri": "https://localhost:8080/",
     "height": 421
    },
    "id": "3EwmK65kGq4Y",
    "outputId": "75f74989-f1df-4988-c79f-e29542208269"
   },
   "outputs": [],
   "source": [
    "plt.figure(figsize=(10,6))\n",
    "plt.plot(range(1,30),error_rate,color='blue', linestyle='dashed', marker='o',markerfacecolor='red', markersize=10)\n",
    "plt.title('Error Rate vs. max depth')\n",
    "plt.xlabel('Max Depth')\n",
    "plt.ylabel('Error Rate')"
   ]
  },
  {
   "cell_type": "code",
   "execution_count": null,
   "metadata": {
    "colab": {
     "base_uri": "https://localhost:8080/",
     "height": 422
    },
    "id": "zIDsNCfGGq4Y",
    "outputId": "1289c150-2c24-42fd-f842-67809e10e961"
   },
   "outputs": [],
   "source": [
    "plt.figure(figsize = (10,6))\n",
    "plt.plot(range(1,30),accuracy_rate,color='blue', linestyle='dashed', marker='o',markerfacecolor='red', markersize=10)\n",
    "plt.title('Accuracy vs max_depth')\n",
    "plt.xlabel('max_depth')\n",
    "plt.ylabel('Accuracy')"
   ]
  },
  {
   "cell_type": "code",
   "execution_count": null,
   "metadata": {
    "id": "TBYPdVGcGq4Z"
   },
   "outputs": [],
   "source": [
    "dt = DecisionTreeClassifier(max_depth=3,criterion = \"gini\")\n",
    "dt.fit(X,y)\n",
    "pred = dt.predict(X)"
   ]
  },
  {
   "cell_type": "code",
   "execution_count": null,
   "metadata": {
    "colab": {
     "base_uri": "https://localhost:8080/"
    },
    "id": "Rln0bxBdGq4Z",
    "outputId": "f761fc93-6423-4557-f07d-636d87c5f061"
   },
   "outputs": [],
   "source": [
    "print(classification_report(y,pred))\n",
    "print(confusion_matrix(y,pred))"
   ]
  },
  {
   "cell_type": "code",
   "execution_count": null,
   "metadata": {
    "colab": {
     "base_uri": "https://localhost:8080/"
    },
    "id": "_xt8pSJpGq4Z",
    "outputId": "e972823f-428e-4a85-913c-1bfa53855715"
   },
   "outputs": [],
   "source": [
    "y_pred_prob = dt.predict_proba(X)[:,1]\n",
    "print(roc_auc_score(y,y_pred_prob))"
   ]
  },
  {
   "cell_type": "markdown",
   "metadata": {
    "id": "mGQCZIe8Gq4a"
   },
   "source": [
    "#  Logistic Regression Model\n"
   ]
  },
  {
   "cell_type": "code",
   "execution_count": null,
   "metadata": {
    "colab": {
     "base_uri": "https://localhost:8080/"
    },
    "id": "j2qtBgJtGq4a",
    "outputId": "ac14af39-fdfc-4811-dd49-7ae581d7802e"
   },
   "outputs": [],
   "source": [
    "accuracy_rate=[]\n",
    "for i in range(1,30):    \n",
    "    dt = LogisticRegression(C= i, solver='liblinear', random_state=0)\n",
    "    score=cross_val_score(dt,X_train,y_train, cv=10)\n",
    "    accuracy_rate.append(score.mean())\n",
    "    \n",
    "    scoresLR = cross_val_score(LogisticRegression(), X, y, scoring = 'accuracy', cv = cv, n_jobs = 1)\n",
    "print('Accuracy for Logistic Regression Model: %.3f (%.3f)' % (mean(scoresLR), std(scoresLR)))"
   ]
  },
  {
   "cell_type": "code",
   "execution_count": null,
   "metadata": {
    "id": "haafjDIHGq4a"
   },
   "outputs": [],
   "source": [
    "error_rate = []\n",
    "\n",
    "for i in range(1,30):\n",
    "    \n",
    "    dt = LogisticRegression(C= i, solver='liblinear', random_state=0)\n",
    "    score=cross_val_score(dt,X_train,y_train, cv=10)\n",
    "    error_rate.append(1-score.mean())"
   ]
  },
  {
   "cell_type": "code",
   "execution_count": null,
   "metadata": {
    "colab": {
     "base_uri": "https://localhost:8080/",
     "height": 391
    },
    "id": "Gga8lfc_Gq4b",
    "outputId": "d0142913-bee9-4886-facf-efbc9bc8d2b3"
   },
   "outputs": [],
   "source": [
    "plt.figure(figsize=(10,6))\n",
    "plt.plot(range(1,30),error_rate,color='blue', linestyle='dashed', marker='o',markerfacecolor='red', markersize=10)\n"
   ]
  },
  {
   "cell_type": "code",
   "execution_count": null,
   "metadata": {
    "colab": {
     "base_uri": "https://localhost:8080/",
     "height": 391
    },
    "id": "x1ftZnG3Gq4b",
    "outputId": "47207409-3a9d-492f-fe69-1511fb828498"
   },
   "outputs": [],
   "source": [
    "plt.figure(figsize = (10,6))\n",
    "plt.plot(range(1,30),accuracy_rate,color='blue', linestyle='dashed', marker='o',markerfacecolor='red', markersize=10)\n"
   ]
  },
  {
   "cell_type": "code",
   "execution_count": null,
   "metadata": {
    "id": "cOWCVvlSGq4c"
   },
   "outputs": [],
   "source": [
    "dt = LogisticRegression(solver='liblinear', random_state=0)\n",
    "dt.fit(X_train,y_train)\n",
    "pred = dt.predict(X_test)"
   ]
  },
  {
   "cell_type": "code",
   "execution_count": null,
   "metadata": {
    "colab": {
     "base_uri": "https://localhost:8080/"
    },
    "id": "n_IHlMqzGq4c",
    "outputId": "42b35c40-e10c-4f0e-d968-e80b0e058187"
   },
   "outputs": [],
   "source": [
    "print(classification_report(y_test,pred))\n",
    "print(confusion_matrix(y_test,pred))"
   ]
  },
  {
   "cell_type": "code",
   "execution_count": null,
   "metadata": {
    "colab": {
     "base_uri": "https://localhost:8080/"
    },
    "id": "wYgo1aoxGq4c",
    "outputId": "97435d8a-6d8a-4c1b-cbc5-998433217565"
   },
   "outputs": [],
   "source": [
    "y_pred_prob = dt.predict_proba(X_test)[:,1]\n",
    "print(roc_auc_score(y_test,y_pred_prob))"
   ]
  },
  {
   "cell_type": "markdown",
   "metadata": {
    "id": "hAfwc1OnGq4d"
   },
   "source": [
    "# Feature Selection using RFE"
   ]
  },
  {
   "cell_type": "code",
   "execution_count": null,
   "metadata": {
    "id": "XTRuahEBGq4d"
   },
   "outputs": [],
   "source": [
    "from sklearn.feature_selection import RFE\n",
    "from sklearn.svm import SVR\n",
    "estimator = SVR(kernel = 'linear')\n",
    "selector = RFE(estimator, n_features_to_select=8, step=1)\n",
    "selector = selector.fit(X, y)"
   ]
  },
  {
   "cell_type": "code",
   "execution_count": null,
   "metadata": {
    "colab": {
     "base_uri": "https://localhost:8080/"
    },
    "id": "US091dpuGq4d",
    "outputId": "d4b3becd-26e9-415f-a0aa-b42adc12179e"
   },
   "outputs": [],
   "source": [
    "print(\"Num Features: %d\" % selector.n_features_)\n",
    "print(\"Selected Features: %s\" % selector.support_)\n",
    "print(\"Feature Ranking: %s\" % selector.ranking_)"
   ]
  },
  {
   "cell_type": "code",
   "execution_count": null,
   "metadata": {
    "colab": {
     "base_uri": "https://localhost:8080/",
     "height": 224
    },
    "id": "zngreBRcGq4e",
    "outputId": "cac7083b-3cb6-4de9-e55a-846d9737f1da",
    "scrolled": true
   },
   "outputs": [],
   "source": [
    "X.head()"
   ]
  },
  {
   "cell_type": "code",
   "execution_count": null,
   "metadata": {
    "colab": {
     "base_uri": "https://localhost:8080/",
     "height": 204
    },
    "id": "tLcLPFKVGq4e",
    "outputId": "0f9835f4-3b18-4de3-9add-4ae77023963d"
   },
   "outputs": [],
   "source": [
    "df_rfe= new_df.iloc[:, [1,2,4,9, 10,13,14,15]]\n",
    "\n",
    "df_rfe.head()"
   ]
  },
  {
   "cell_type": "code",
   "execution_count": null,
   "metadata": {
    "colab": {
     "base_uri": "https://localhost:8080/"
    },
    "id": "0aSZm8rIGq4e",
    "outputId": "16253438-014b-4e26-e6cb-c44cc38dbbc8"
   },
   "outputs": [],
   "source": [
    "X_rfe = df_rfe\n",
    "y_rfe = df['class']\n",
    "\n",
    "folds = StratifiedKFold(n_splits = 3)\n",
    "cv = StratifiedKFold(n_splits = 3, random_state = 1, shuffle = True)\n",
    "scoresLR = cross_val_score(LogisticRegression(), df_rfe, y_rfe, scoring = 'accuracy', cv = cv, n_jobs = 1)\n",
    "print('Accuracy for Logistic Regression Model: %.3f (%.3f)' % (mean(scoresLR), std(scoresLR)))\n",
    "\n",
    "scoresRF = cross_val_score(RandomForestClassifier(n_estimators = 40), df_rfe, y_rfe, scoring = 'accuracy', cv = cv, n_jobs = 1)\n",
    "print('Accuracy for Random Forest Model: %.3f (%.3f)' % (mean(scoresRF), std(scoresRF)))\n",
    "\n",
    "scoresSV = cross_val_score(SVC(), df_rfe, y_rfe, scoring = 'accuracy', cv = cv, n_jobs = 1)\n",
    "print('Accuracy for SVM Model: %.3f (%.3f)' % (mean(scoresSV), std(scoresSV)))\n",
    "\n",
    "scoresKNN = cross_val_score(KNeighborsClassifier(n_neighbors = 5, metric = 'euclidean'), df_rfe, y_rfe, scoring = 'accuracy', cv = cv, n_jobs = 1)\n",
    "print('Accuracy for KNN Model: %.3f (%.3f)' % (mean(scoresKNN), std(scoresKNN)))\n"
   ]
  },
  {
   "cell_type": "markdown",
   "metadata": {
    "id": "elPxNfhcGq4f"
   },
   "source": [
    "# Roc Curve experimental"
   ]
  },
  {
   "cell_type": "code",
   "execution_count": null,
   "metadata": {
    "colab": {
     "base_uri": "https://localhost:8080/",
     "height": 364
    },
    "id": "jF47jT1PGq4g",
    "outputId": "a529531c-4013-4c17-bc1c-d09a26bedb96"
   },
   "outputs": [],
   "source": [
    "lr_probs=lr.predict_proba(X_test_scaled)\n",
    "lr_probs=lr_probs[:,1]\n",
    "lr_auc = roc_auc_score(y_test_scaled, lr_probs)\n",
    "\n",
    "print('Logistic: ROC AUC=%.3f' % (lr_auc))\n",
    "\n",
    "lr_fpr, lr_tpr, _ = roc_curve(y_test_scaled, lr_probs)\n",
    "plt.plot(lr_fpr, lr_tpr, marker='.', label='Logistic')\n",
    "\n",
    "\n",
    "\n",
    "\n",
    "\n",
    "\n",
    "dtree_probs=dtree.predict_proba(X_test_scaled)\n",
    "dtree_probs=dtree_probs[:,1]\n",
    "dtree_auc = roc_auc_score(y_test_scaled, dtree_probs)\n",
    "\n",
    "print('dtree: ROC AUC=%.3f' % (dtree_auc))\n",
    "\n",
    "dtree_fpr, dtree_tpr, _ =  roc_curve(y_test_scaled, lr_probs)\n",
    "\n",
    "plt.plot(dtree_fpr, dtree_tpr, marker='.', label='dtree')\n",
    "\n",
    "\n",
    "\n",
    "knn_probs=knn.predict_proba(X_test_scaled)\n",
    "knn_probs=knn_probs[:,1]\n",
    "knn_auc = roc_auc_score(y_test_scaled, knn_probs)\n",
    "\n",
    "print('knn: ROC AUC=%.3f' % (knn_auc))\n",
    "\n",
    "knn_fpr, knn_tpr, _ = roc_curve(y_test_scaled, knn_probs)\n",
    "plt.plot(knn_fpr, knn_tpr, marker='.', label='knn')\n",
    "\n",
    "\n",
    "\n",
    "\n",
    "rf_probs=rf.predict_proba(X_test_scaled)\n",
    "rf_probs=rf_probs[:,1]\n",
    "rf_auc = roc_auc_score(y_test_scaled, rf_probs)\n",
    "\n",
    "print('rf: ROC AUC=%.3f' % (rf_auc))\n",
    "\n",
    "rf_fpr, rf_tpr, _ = roc_curve(y_test_scaled, rf_probs)\n",
    "plt.plot(rf_fpr, rf_tpr, marker='.', label='rf')\n",
    "\n",
    "\n",
    "\n",
    "\n",
    "\n",
    "\n",
    "\n",
    "svm_probs=svm.predict_proba(X_test_scaled)\n",
    "svm_probs=svm_probs[:,1]\n",
    "svm_auc = roc_auc_score(y_test_scaled, svm_probs)\n",
    "\n",
    "print('svm: ROC AUC=%.3f' % (svm_auc))\n",
    "\n",
    "svm_fpr, svm_tpr, _ = roc_curve(y_test_scaled, svm_probs)\n",
    "plt.plot(svm_fpr, svm_tpr, marker='.', label='svm')\n",
    "\n",
    "\n",
    "\n",
    "\n",
    "\n",
    "# axis labels\n",
    "plt.xlabel('False Positive Rate')\n",
    "plt.ylabel('True Positive Rate')\n",
    "# show the legend\n",
    "plt.legend()\n",
    "# show the plot\n",
    "plt.show()"
   ]
  },
  {
   "cell_type": "markdown",
   "metadata": {
    "id": "WA0-FQSHo3bx"
   },
   "source": [
    "# Precision Recall curve"
   ]
  },
  {
   "cell_type": "code",
   "execution_count": null,
   "metadata": {
    "colab": {
     "base_uri": "https://localhost:8080/"
    },
    "id": "bd0jZyZk3lW3",
    "outputId": "8d491115-e8de-486b-e40c-4be0691a382e"
   },
   "outputs": [],
   "source": [
    "!pip install plotly"
   ]
  },
  {
   "cell_type": "code",
   "execution_count": null,
   "metadata": {
    "colab": {
     "base_uri": "https://localhost:8080/",
     "height": 17
    },
    "id": "o2p0LDjOr3cA",
    "outputId": "08d6df4a-b0d4-4f37-fc36-1ab49820f414"
   },
   "outputs": [],
   "source": [
    "import plotly.offline as py\n",
    "import plotly.express as px\n",
    "import plotly.graph_objects as go\n",
    "from plotly.subplots import make_subplots\n",
    "import plotly.figure_factory as ff\n",
    "import cufflinks as cf\n",
    "cf.set_config_file(offline=True, sharing=False, theme='ggplot');"
   ]
  },
  {
   "cell_type": "code",
   "execution_count": null,
   "metadata": {
    "id": "ywRIMVXTpOaB"
   },
   "outputs": [],
   "source": [
    "def predict_at_threshold(prob, threshold):\n",
    "    return np.where(prob >= threshold, 1., 0.)\n",
    "\n",
    "def precision_at_threshold(Y, prob, threshold):\n",
    "    Y_hat = predict_at_threshold(prob, threshold)\n",
    "    return np.sum((Y_hat == 1) & (Y == 1)) / np.sum(Y_hat)\n",
    "\n",
    "def recall_at_threshold(Y, prob, threshold):\n",
    "    Y_hat = predict_at_threshold(prob, threshold)\n",
    "    return np.sum((Y_hat == 1) & (Y == 1)) / np.sum(Y)\n",
    "\n",
    "def precision_recall_curve(Y, prob):\n",
    "    unique_thresh = np.unique(prob)\n",
    "    precision = [precision_at_threshold(Y, prob, t) for t in unique_thresh]\n",
    "    recall = [recall_at_threshold(Y, prob, t) for t in unique_thresh]\n",
    "    return precision, recall, unique_thresh"
   ]
  },
  {
   "cell_type": "code",
   "execution_count": null,
   "metadata": {
    "id": "vesjCcWmrugk"
   },
   "outputs": [],
   "source": [
    "precision,recall,threshold=metrics.precision_recall_curve(y_train_scaled,knn.predict_proba(X_train_scaled)[:,1])"
   ]
  },
  {
   "cell_type": "code",
   "execution_count": null,
   "metadata": {
    "colab": {
     "base_uri": "https://localhost:8080/",
     "height": 542
    },
    "id": "16ldHc8wr23K",
    "outputId": "9b62c97b-8e9b-4352-c494-f66be70724d1"
   },
   "outputs": [],
   "source": [
    "fig=px.line(x=recall[:-1],y=precision[:-1],hover_name=threshold)\n",
    "fig.update_xaxes(title=\"Recall\")\n",
    "fig.update_yaxes(title=\"Precision\")\n",
    "fig.show()"
   ]
  },
  {
   "cell_type": "code",
   "execution_count": null,
   "metadata": {
    "id": "U0KfaddSr3v0"
   },
   "outputs": [],
   "source": []
  },
  {
   "cell_type": "code",
   "execution_count": null,
   "metadata": {
    "id": "Ajb0q4xKr38Y"
   },
   "outputs": [],
   "source": []
  },
  {
   "cell_type": "code",
   "execution_count": null,
   "metadata": {
    "id": "XDgQdT67r4Fc"
   },
   "outputs": [],
   "source": []
  },
  {
   "cell_type": "code",
   "execution_count": null,
   "metadata": {
    "id": "MrYfRwg4r4Na"
   },
   "outputs": [],
   "source": []
  },
  {
   "cell_type": "code",
   "execution_count": null,
   "metadata": {
    "id": "ovWi2XVjr4UL"
   },
   "outputs": [],
   "source": []
  },
  {
   "cell_type": "code",
   "execution_count": null,
   "metadata": {
    "id": "P2LMV2ykr4cz"
   },
   "outputs": [],
   "source": []
  }
 ],
 "metadata": {
  "colab": {
   "collapsed_sections": [
    "NTxfbZJ7Gq4G",
    "ncC7TI_EGq4H",
    "VM4tI8jBGq4H",
    "MZMamBnRGq4J",
    "K3fERX-bGq4K",
    "LWgzvY_vGq4O",
    "l8HMpSfmGq4P",
    "d0HaOfAXGq4Q",
    "JzhcoLMHGq4R",
    "1TqZ-wq4Gq4S"
   ],
   "name": "cse445_final_project-1.ipynb",
   "provenance": [],
   "toc_visible": true
  },
  "kernelspec": {
   "display_name": "Python 3",
   "language": "python",
   "name": "python3"
  },
  "language_info": {
   "codemirror_mode": {
    "name": "ipython",
    "version": 3
   },
   "file_extension": ".py",
   "mimetype": "text/x-python",
   "name": "python",
   "nbconvert_exporter": "python",
   "pygments_lexer": "ipython3",
   "version": "3.8.5"
  }
 },
 "nbformat": 4,
 "nbformat_minor": 1
}
